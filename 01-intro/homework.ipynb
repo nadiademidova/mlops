{
 "cells": [
  {
   "cell_type": "code",
   "execution_count": 1,
   "id": "0d6547d7-2bcc-4e26-b319-358283e04b3c",
   "metadata": {},
   "outputs": [
    {
     "name": "stdout",
     "output_type": "stream",
     "text": [
      "Python 3.12.3\n"
     ]
    }
   ],
   "source": [
    "!python -V"
   ]
  },
  {
   "cell_type": "code",
   "execution_count": 2,
   "id": "004ee8ab-300a-4d09-95fe-e7232a97db01",
   "metadata": {},
   "outputs": [],
   "source": [
    "import pandas as pd\n",
    "import numpy as np"
   ]
  },
  {
   "cell_type": "markdown",
   "id": "36fcca93-dedf-4a08-9945-f7e5b8ce5330",
   "metadata": {},
   "source": [
    "# Training"
   ]
  },
  {
   "cell_type": "markdown",
   "id": "4988c9df-ae63-4f63-8d7c-cd7160a7c9ad",
   "metadata": {},
   "source": [
    "## Reading data for January"
   ]
  },
  {
   "cell_type": "code",
   "execution_count": 3,
   "id": "970f4f1e-4e8b-45aa-8394-3e2820ac0eea",
   "metadata": {},
   "outputs": [],
   "source": [
    "yellow = pd.read_parquet('./data/yellow_tripdata_2023-01.parquet')"
   ]
  },
  {
   "cell_type": "code",
   "execution_count": 4,
   "id": "dce1ef40-37aa-46b0-96e5-f1646c9248b9",
   "metadata": {},
   "outputs": [
    {
     "name": "stdout",
     "output_type": "stream",
     "text": [
      "<class 'pandas.core.frame.DataFrame'>\n",
      "RangeIndex: 3066766 entries, 0 to 3066765\n",
      "Data columns (total 19 columns):\n",
      " #   Column                 Dtype         \n",
      "---  ------                 -----         \n",
      " 0   VendorID               int64         \n",
      " 1   tpep_pickup_datetime   datetime64[us]\n",
      " 2   tpep_dropoff_datetime  datetime64[us]\n",
      " 3   passenger_count        float64       \n",
      " 4   trip_distance          float64       \n",
      " 5   RatecodeID             float64       \n",
      " 6   store_and_fwd_flag     object        \n",
      " 7   PULocationID           int64         \n",
      " 8   DOLocationID           int64         \n",
      " 9   payment_type           int64         \n",
      " 10  fare_amount            float64       \n",
      " 11  extra                  float64       \n",
      " 12  mta_tax                float64       \n",
      " 13  tip_amount             float64       \n",
      " 14  tolls_amount           float64       \n",
      " 15  improvement_surcharge  float64       \n",
      " 16  total_amount           float64       \n",
      " 17  congestion_surcharge   float64       \n",
      " 18  airport_fee            float64       \n",
      "dtypes: datetime64[us](2), float64(12), int64(4), object(1)\n",
      "memory usage: 444.6+ MB\n"
     ]
    }
   ],
   "source": [
    "yellow.info()"
   ]
  },
  {
   "cell_type": "markdown",
   "id": "4cc0ad79-9b9b-4612-bc6a-70e9350ef34e",
   "metadata": {},
   "source": [
    "## Computing duration\n",
    "What's the standard deviation of the trips duration in January?"
   ]
  },
  {
   "cell_type": "code",
   "execution_count": 5,
   "id": "5b51eb87-4e56-49f6-ab65-27238d5bfc37",
   "metadata": {},
   "outputs": [],
   "source": [
    "yellow['duration'] = yellow.tpep_dropoff_datetime - yellow.tpep_pickup_datetime\n",
    "yellow.duration = yellow.duration.apply(lambda td: td.total_seconds() / 60)"
   ]
  },
  {
   "cell_type": "code",
   "execution_count": 6,
   "id": "5834036f-f44b-438b-894c-50111bb4ed21",
   "metadata": {},
   "outputs": [
    {
     "data": {
      "text/plain": [
       "np.float64(42.59435124195458)"
      ]
     },
     "execution_count": 6,
     "metadata": {},
     "output_type": "execute_result"
    }
   ],
   "source": [
    "yellow.duration.std()"
   ]
  },
  {
   "cell_type": "code",
   "execution_count": 7,
   "id": "02eabda8-cef4-46d9-95d1-edf909f29600",
   "metadata": {},
   "outputs": [],
   "source": [
    "pd.options.display.float_format = '{:20,.2f}'.format"
   ]
  },
  {
   "cell_type": "code",
   "execution_count": 8,
   "id": "dc154c7c-bb3f-4bbc-8bc8-591d161f0231",
   "metadata": {},
   "outputs": [
    {
     "data": {
      "text/plain": [
       "count           3,066,766.00\n",
       "mean                   15.67\n",
       "std                    42.59\n",
       "min                   -29.20\n",
       "25%                     7.12\n",
       "50%                    11.52\n",
       "75%                    18.30\n",
       "max                10,029.18\n",
       "Name: duration, dtype: float64"
      ]
     },
     "execution_count": 8,
     "metadata": {},
     "output_type": "execute_result"
    }
   ],
   "source": [
    "yellow.duration.describe()"
   ]
  },
  {
   "cell_type": "code",
   "execution_count": 9,
   "id": "6d5d743d-bd75-4b07-a54b-6fc7e5dd3b0f",
   "metadata": {},
   "outputs": [
    {
     "data": {
      "text/plain": [
       "count           3,066,766.00\n",
       "mean                   15.67\n",
       "std                    42.59\n",
       "min                   -29.20\n",
       "50%                    11.52\n",
       "95%                    36.47\n",
       "98%                    48.73\n",
       "99%                    57.25\n",
       "max                10,029.18\n",
       "Name: duration, dtype: float64"
      ]
     },
     "execution_count": 9,
     "metadata": {},
     "output_type": "execute_result"
    }
   ],
   "source": [
    "yellow.duration.describe(percentiles = [0.95, 0.98, 0.99])"
   ]
  },
  {
   "cell_type": "markdown",
   "id": "a939c6a1-eb81-42fa-b365-d35714628bc3",
   "metadata": {},
   "source": [
    "## Dropping outliers"
   ]
  },
  {
   "cell_type": "code",
   "execution_count": 10,
   "id": "cb92619d-1112-4978-ac12-4229e8457c24",
   "metadata": {},
   "outputs": [],
   "source": [
    "# Let's remove them and keep only the records where \n",
    "# the duration was between 1 and 60 minutes (inclusive).\n",
    "yellow = yellow[(yellow.duration >= 1) & (yellow.duration <= 60)]"
   ]
  },
  {
   "cell_type": "code",
   "execution_count": 11,
   "id": "8ff2afb0-722c-4450-990d-c6bd55d87a0c",
   "metadata": {},
   "outputs": [
    {
     "data": {
      "text/plain": [
       "count           3,009,173.00\n",
       "mean                   14.20\n",
       "std                     9.94\n",
       "min                     1.00\n",
       "25%                     7.22\n",
       "50%                    11.55\n",
       "75%                    18.18\n",
       "max                    60.00\n",
       "Name: duration, dtype: float64"
      ]
     },
     "execution_count": 11,
     "metadata": {},
     "output_type": "execute_result"
    }
   ],
   "source": [
    "yellow.duration.describe()"
   ]
  },
  {
   "cell_type": "code",
   "execution_count": 12,
   "id": "e2cb0cfc-ddd6-426b-9643-bbdc492973b1",
   "metadata": {},
   "outputs": [
    {
     "data": {
      "text/plain": [
       "98.1220282212598"
      ]
     },
     "execution_count": 12,
     "metadata": {},
     "output_type": "execute_result"
    }
   ],
   "source": [
    "# What fraction of the records left after you dropped the outliers?\n",
    "3009173/3066766*100"
   ]
  },
  {
   "cell_type": "markdown",
   "id": "6e7012f5-8228-4d4c-8fbe-70879487599e",
   "metadata": {},
   "source": [
    "## One-hot encoding\n",
    "Let's apply one-hot encoding to the pickup and dropoff location IDs. We'll use only these two features for our model.\n",
    "\n",
    "* Turn the dataframe into a list of dictionaries (remember to re-cast the ids to strings - otherwise it will label encode them)\n",
    "* Fit a dictionary vectorizer\n",
    "* Get a feature matrix from it  \n",
    "\n",
    "What's the dimensionality of this matrix (number of columns)?"
   ]
  },
  {
   "cell_type": "code",
   "execution_count": 13,
   "id": "b3b9afb2-d032-46ec-aea3-842b8172c571",
   "metadata": {},
   "outputs": [],
   "source": [
    "categorical = ['PULocationID', 'DOLocationID']\n",
    "yellow[categorical] = yellow[categorical].astype(str)\n",
    "# train_dicts = df[categorical + numerical].to_dict(orient='records')\n",
    "train_dicts = yellow[categorical].to_dict(orient='records')"
   ]
  },
  {
   "cell_type": "code",
   "execution_count": 14,
   "id": "0fecec5a-5859-4220-be45-d4dd61901a93",
   "metadata": {},
   "outputs": [
    {
     "data": {
      "text/plain": [
       "3009173"
      ]
     },
     "execution_count": 14,
     "metadata": {},
     "output_type": "execute_result"
    }
   ],
   "source": [
    "len(train_dicts)"
   ]
  },
  {
   "cell_type": "code",
   "execution_count": 15,
   "id": "0b53be18-1013-4b00-bfb5-df6d3541eaf8",
   "metadata": {},
   "outputs": [
    {
     "data": {
      "text/plain": [
       "list"
      ]
     },
     "execution_count": 15,
     "metadata": {},
     "output_type": "execute_result"
    }
   ],
   "source": [
    "type(train_dicts)"
   ]
  },
  {
   "cell_type": "code",
   "execution_count": 16,
   "id": "2ea986f1-4b71-4bd2-a85a-2c4c51aaf602",
   "metadata": {},
   "outputs": [
    {
     "data": {
      "text/plain": [
       "2"
      ]
     },
     "execution_count": 16,
     "metadata": {},
     "output_type": "execute_result"
    }
   ],
   "source": [
    "len(train_dicts[0])"
   ]
  },
  {
   "cell_type": "code",
   "execution_count": 17,
   "id": "9e0bf55f-eae4-467c-af62-f6066da60694",
   "metadata": {},
   "outputs": [
    {
     "data": {
      "text/plain": [
       "dict_keys(['PULocationID', 'DOLocationID'])"
      ]
     },
     "execution_count": 17,
     "metadata": {},
     "output_type": "execute_result"
    }
   ],
   "source": [
    "train_dicts[0].keys()"
   ]
  },
  {
   "cell_type": "code",
   "execution_count": 18,
   "id": "8ed8b8d7-bdf9-4ce6-8154-bb1ecc396808",
   "metadata": {},
   "outputs": [
    {
     "data": {
      "text/plain": [
       "dict_items([('PULocationID', '161'), ('DOLocationID', '141')])"
      ]
     },
     "execution_count": 18,
     "metadata": {},
     "output_type": "execute_result"
    }
   ],
   "source": [
    "train_dicts[0].items()"
   ]
  },
  {
   "cell_type": "code",
   "execution_count": 19,
   "id": "3ab0374e-4dfc-4e5a-b54d-83c52a9adc6b",
   "metadata": {},
   "outputs": [],
   "source": [
    "# perform vectorisation with inbuild sklearn method\n",
    "from sklearn.feature_extraction import DictVectorizer\n",
    "dv = DictVectorizer()\n",
    "X_train = dv.fit_transform(train_dicts)"
   ]
  },
  {
   "cell_type": "code",
   "execution_count": 20,
   "id": "39d50546-abc4-413e-87e9-c795334184d3",
   "metadata": {},
   "outputs": [
    {
     "data": {
      "text/plain": [
       "array(['DOLocationID=1', 'DOLocationID=10', 'DOLocationID=100',\n",
       "       'DOLocationID=101', 'DOLocationID=102'], dtype=object)"
      ]
     },
     "execution_count": 20,
     "metadata": {},
     "output_type": "execute_result"
    }
   ],
   "source": [
    "# first 5 feature names\n",
    "dv.get_feature_names_out()[:5]"
   ]
  },
  {
   "cell_type": "code",
   "execution_count": 21,
   "id": "04f5723e-f757-448b-97c6-125b02f988f5",
   "metadata": {},
   "outputs": [
    {
     "name": "stdout",
     "output_type": "stream",
     "text": [
      "<Compressed Sparse Row sparse matrix of dtype 'float64'\n",
      "\twith 2 stored elements and shape (1, 515)>\n",
      "  Coords\tValues\n",
      "  (0, 43)\t1.0\n",
      "  (0, 325)\t1.0\n"
     ]
    }
   ],
   "source": [
    "print(X_train[0])"
   ]
  },
  {
   "cell_type": "markdown",
   "id": "b54e5c87-0b59-414b-8b62-e1a312ad0967",
   "metadata": {},
   "source": [
    "## Training a model\n",
    "Now let's use the feature matrix from the previous step to train a model.\n",
    "\n",
    "* Train a plain linear regression model with default parameters, where duration is the response variable\n",
    "* Calculate the RMSE of the model on the training data\n",
    "\n",
    "What's the RMSE on train?"
   ]
  },
  {
   "cell_type": "code",
   "execution_count": 22,
   "id": "5e2038b1-4337-4aa9-996c-fe322e244597",
   "metadata": {},
   "outputs": [
    {
     "data": {
      "text/plain": [
       "7.6492624397080675"
      ]
     },
     "execution_count": 22,
     "metadata": {},
     "output_type": "execute_result"
    }
   ],
   "source": [
    "from sklearn.linear_model import LinearRegression\n",
    "from sklearn.metrics import root_mean_squared_error\n",
    "\n",
    "target = 'duration'\n",
    "y_train = yellow[target].values\n",
    "\n",
    "lr = LinearRegression()\n",
    "lr.fit(X_train, y_train)\n",
    "\n",
    "y_pred = lr.predict(X_train)\n",
    "\n",
    "root_mean_squared_error(y_train, y_pred)"
   ]
  },
  {
   "cell_type": "markdown",
   "id": "91650c9a-cf0a-4a24-bc14-7312a6e0b9de",
   "metadata": {},
   "source": [
    "## Evaluating the model\n",
    "Now let's apply this model to the validation dataset (February 2023).\n",
    "\n",
    "What's the RMSE on validation?"
   ]
  },
  {
   "cell_type": "code",
   "execution_count": 26,
   "id": "09985847-22fd-41fa-abdc-388444baf470",
   "metadata": {},
   "outputs": [],
   "source": [
    "def data_pre_processing(filename, target = 'duration'):\n",
    "    df = pd.read_parquet(filename)\n",
    "    df['duration'] = df.tpep_dropoff_datetime - df.tpep_pickup_datetime\n",
    "    df.duration = df.duration.apply(lambda td: td.total_seconds() / 60)\n",
    "    df = df[(df.duration >= 1) & (df.duration <= 60)]\n",
    "\n",
    "    categorical = ['PULocationID', 'DOLocationID']\n",
    "    df[categorical] = df[categorical].astype(str)\n",
    "    \n",
    "    return df[categorical], df[target].values"
   ]
  },
  {
   "cell_type": "code",
   "execution_count": 27,
   "id": "8efde0e5-75fa-4c56-859a-0448a81119b5",
   "metadata": {},
   "outputs": [],
   "source": [
    "X_train, y_train = data_pre_processing('./data/yellow_tripdata_2023-01.parquet')\n",
    "X_test, y_test = data_pre_processing('./data/yellow_tripdata_2023-02.parquet')"
   ]
  },
  {
   "cell_type": "code",
   "execution_count": 28,
   "id": "6191a823-e418-4c5f-b59d-8c9f63c69eee",
   "metadata": {},
   "outputs": [
    {
     "data": {
      "text/plain": [
       "(3009173, 3009173)"
      ]
     },
     "execution_count": 28,
     "metadata": {},
     "output_type": "execute_result"
    }
   ],
   "source": [
    "len(X_train), len(y_train)"
   ]
  },
  {
   "cell_type": "code",
   "execution_count": 29,
   "id": "c7ca0f7a-74f7-4cdc-a8bc-3b2cd4db79a9",
   "metadata": {},
   "outputs": [
    {
     "data": {
      "text/plain": [
       "(2855951, 2855951)"
      ]
     },
     "execution_count": 29,
     "metadata": {},
     "output_type": "execute_result"
    }
   ],
   "source": [
    "len(X_test), len(y_test)"
   ]
  },
  {
   "cell_type": "code",
   "execution_count": 41,
   "id": "5681914b-ac34-4b8a-af09-93a172c7a955",
   "metadata": {},
   "outputs": [],
   "source": [
    "from sklearn.pipeline import Pipeline\n",
    "from sklearn.preprocessing import OneHotEncoder\n",
    "from sklearn.linear_model import LinearRegression\n",
    "from sklearn.metrics import root_mean_squared_error\n",
    "\n",
    "pipe = Pipeline([('hot_encoding', OneHotEncoder(sparse_output=True, handle_unknown='ignore')), \n",
    "                 ('model', LinearRegression())])"
   ]
  },
  {
   "cell_type": "code",
   "execution_count": 42,
   "id": "5c0d4462-3f8d-4326-8770-ecaef8e7cd3d",
   "metadata": {},
   "outputs": [
    {
     "data": {
      "text/plain": [
       "0.39751850397006006"
      ]
     },
     "execution_count": 42,
     "metadata": {},
     "output_type": "execute_result"
    }
   ],
   "source": [
    "pipe.fit(X_train, y_train).score(X_test, y_test)"
   ]
  },
  {
   "cell_type": "code",
   "execution_count": 43,
   "id": "8ea7207f-5df9-4e3b-a752-2d50c59792af",
   "metadata": {},
   "outputs": [],
   "source": [
    "y_pred = pipe.predict(X_test)"
   ]
  },
  {
   "cell_type": "code",
   "execution_count": 45,
   "id": "b43c795a-e9d3-46e6-9a18-12f28c7a8ffa",
   "metadata": {},
   "outputs": [
    {
     "data": {
      "text/plain": [
       "7.811819746035725"
      ]
     },
     "execution_count": 45,
     "metadata": {},
     "output_type": "execute_result"
    }
   ],
   "source": [
    "root_mean_squared_error(y_test, y_pred)"
   ]
  },
  {
   "cell_type": "code",
   "execution_count": 46,
   "id": "d348106f-3ee3-4b4a-8a7f-aad166f993ed",
   "metadata": {},
   "outputs": [],
   "source": [
    "import sklearn"
   ]
  },
  {
   "cell_type": "code",
   "execution_count": 47,
   "id": "0a74184e-d897-4327-a399-6339a94a8bff",
   "metadata": {},
   "outputs": [
    {
     "data": {
      "text/plain": [
       "'1.6.1'"
      ]
     },
     "execution_count": 47,
     "metadata": {},
     "output_type": "execute_result"
    }
   ],
   "source": [
    "sklearn.__version__"
   ]
  }
 ],
 "metadata": {
  "kernelspec": {
   "display_name": "Python 3 (ipykernel)",
   "language": "python",
   "name": "python3"
  },
  "language_info": {
   "codemirror_mode": {
    "name": "ipython",
    "version": 3
   },
   "file_extension": ".py",
   "mimetype": "text/x-python",
   "name": "python",
   "nbconvert_exporter": "python",
   "pygments_lexer": "ipython3",
   "version": "3.12.3"
  }
 },
 "nbformat": 4,
 "nbformat_minor": 5
}
